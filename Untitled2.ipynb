{
 "cells": [
  {
   "cell_type": "code",
   "execution_count": 4,
   "metadata": {},
   "outputs": [],
   "source": [
    "## José Luis Roberto Zárate Cortés (000183347)\n",
    "# Semana 2, Práctica 2: Sistemas de Ecuaciones Lineales.\n",
    "\n",
    "#Ejercicio: resolver el ejercicio 3) anterior con la factorización QR del paquete numpy de la matriz A y\n",
    "#verificar resultado"
   ]
  },
  {
   "cell_type": "code",
   "execution_count": 6,
   "metadata": {},
   "outputs": [],
   "source": [
    "import scipy\n",
    "import scipy.linalg \n",
    "import numpy as np\n",
    "import pprint"
   ]
  },
  {
   "cell_type": "code",
   "execution_count": 7,
   "metadata": {},
   "outputs": [],
   "source": [
    "MatA = scipy.array([[1, 4, 1], [1, 6, -1], [2, -1, 2]])\n",
    "MatB = scipy.array([[7, -1], [13, 6], [5, 7]])"
   ]
  },
  {
   "cell_type": "code",
   "execution_count": 8,
   "metadata": {},
   "outputs": [
    {
     "name": "stdout",
     "output_type": "stream",
     "text": [
      "array([[ 1,  4,  1],\n",
      "       [ 1,  6, -1],\n",
      "       [ 2, -1,  2]])\n",
      "array([[ 7, -1],\n",
      "       [13,  6],\n",
      "       [ 5,  7]])\n"
     ]
    }
   ],
   "source": [
    "pprint.pprint(MatA)\n",
    "pprint.pprint(MatB)"
   ]
  },
  {
   "cell_type": "code",
   "execution_count": 9,
   "metadata": {},
   "outputs": [],
   "source": [
    "Q,R = scipy.linalg.qr(MatA)\n",
    "QT=np.transpose(Q)"
   ]
  },
  {
   "cell_type": "code",
   "execution_count": 10,
   "metadata": {},
   "outputs": [
    {
     "name": "stdout",
     "output_type": "stream",
     "text": [
      "Matriz Q:\n",
      "array([[-0.40824829, -0.40985242, -0.81569255],\n",
      "       [-0.40824829, -0.71724173,  0.56471022],\n",
      "       [-0.81649658,  0.56354707,  0.12549116]])\n",
      "Matriz R:\n",
      "array([[-2.44948974, -3.26598632, -1.63299316],\n",
      "       [ 0.        , -6.5064071 ,  1.43448345],\n",
      "       [ 0.        ,  0.        , -1.12942045]])\n",
      "Matriz QT:\n",
      "array([[-0.40824829, -0.40824829, -0.81649658],\n",
      "       [-0.40985242, -0.71724173,  0.56354707],\n",
      "       [-0.81569255,  0.56471022,  0.12549116]])\n"
     ]
    }
   ],
   "source": [
    "print(\"Matriz Q:\")\n",
    "pprint.pprint(Q)\n",
    "print(\"Matriz R:\")\n",
    "pprint.pprint(R)\n",
    "print(\"Matriz QT:\")\n",
    "pprint.pprint(QT)"
   ]
  },
  {
   "cell_type": "code",
   "execution_count": 15,
   "metadata": {},
   "outputs": [
    {
     "name": "stdout",
     "output_type": "stream",
     "text": [
      "[[1.00000000e+00 1.11022302e-16 2.22044605e-16]\n",
      " [1.11022302e-16 1.00000000e+00 0.00000000e+00]\n",
      " [2.22044605e-16 0.00000000e+00 1.00000000e+00]]\n"
     ]
    }
   ],
   "source": [
    "print(Q@QT)"
   ]
  }
 ],
 "metadata": {
  "kernelspec": {
   "display_name": "Python 3",
   "language": "python",
   "name": "python3"
  },
  "language_info": {
   "codemirror_mode": {
    "name": "ipython",
    "version": 3
   },
   "file_extension": ".py",
   "mimetype": "text/x-python",
   "name": "python",
   "nbconvert_exporter": "python",
   "pygments_lexer": "ipython3",
   "version": "3.6.8"
  }
 },
 "nbformat": 4,
 "nbformat_minor": 2
}
