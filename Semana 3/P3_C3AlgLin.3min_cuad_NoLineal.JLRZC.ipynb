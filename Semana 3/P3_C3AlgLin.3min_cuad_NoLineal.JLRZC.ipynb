{
 "cells": [
  {
   "cell_type": "markdown",
   "metadata": {},
   "source": [
    "José Luis Roberto Zárate Cortés (000183347)\n",
    "### **Semana 3; Clase 3_algebra_lineal, 3_minimos_cuadrados**\n",
    "### _No Lineales y Error Cuadrático Medio._\n",
    "3. Regresión Lineal, Modelo sin Intercepto.  \n",
    "Como ejemplo utilizaremos el conjunto de datos \"datos_para_ipynb_3_minimos_cuadrados.txt\". Ajustaremos tres modelos de la forma:  \n",
    "$$f_1(x|\\beta)=\\beta_0+\\beta_1 \\frac{x}{x+1}$$\n",
    "$$f_2(x|\\beta)=\\beta_0+\\beta_1 x+\\beta_2x^2$$\n",
    "$$f_3(x|\\beta)=\\beta_0+\\beta_1 \\log(x+1)$$\n",
    "tomando como variable respuesta la segunda columna de los datos etiquetada como $y$."
   ]
  },
  {
   "cell_type": "code",
   "execution_count": 1,
   "metadata": {},
   "outputs": [],
   "source": [
    "import numpy as np\n",
    "import matplotlib.pyplot as plt\n",
    "import pprint\n",
    "from numpy import log\n",
    "np.set_printoptions(precision = 3)"
   ]
  },
  {
   "cell_type": "markdown",
   "metadata": {},
   "source": [
    "_DATOS_"
   ]
  },
  {
   "cell_type": "code",
   "execution_count": 2,
   "metadata": {},
   "outputs": [],
   "source": [
    "datos = np.loadtxt('datos_para_ipynb_3_minimos_cuadrados.txt', skiprows=1)\n",
    "x = datos[:,0]\n",
    "y = datos[:,1]\n",
    "mpoints, = x.shape"
   ]
  },
  {
   "cell_type": "markdown",
   "metadata": {},
   "source": [
    "**MODELO I**"
   ]
  },
  {
   "cell_type": "code",
   "execution_count": 3,
   "metadata": {},
   "outputs": [
    {
     "name": "stdout",
     "output_type": "stream",
     "text": [
      "Coeficientes de beta: [-1.303  6.196]\n"
     ]
    }
   ],
   "source": [
    "phi_1 = lambda var: var/(var+1)\n",
    "A=np.ones((mpoints,2))\n",
    "A[:,1] = phi_1(x)\n",
    "Q,R = np.linalg.qr(A)\n",
    "beta = np.linalg.solve(R,Q.T@y)\n",
    "y_ajustadas_QR = A@beta\n",
    "print('Coeficientes de beta:',beta)"
   ]
  },
  {
   "cell_type": "markdown",
   "metadata": {},
   "source": [
    "**MODELO II**"
   ]
  },
  {
   "cell_type": "code",
   "execution_count": 4,
   "metadata": {},
   "outputs": [
    {
     "name": "stdout",
     "output_type": "stream",
     "text": [
      "Coefientes del modelo de ajuste grado 2:\n",
      "array([-0.694,  3.395, -0.919])\n"
     ]
    }
   ],
   "source": [
    "ngrado = 2\n",
    "coeficientes = np.polyfit(x,y,ngrado)\n",
    "print('Coefientes del modelo de ajuste grado 2:')\n",
    "pprint.pprint(coeficientes)\n",
    "#y_ajustadas_numpy = coeficientes[2] + coeficientes[1] * x + coeficientes[0] * x**2\n",
    "y_ajustadas_numpy = np.polyval(coeficientes,x)"
   ]
  },
  {
   "cell_type": "markdown",
   "metadata": {},
   "source": [
    "**MODELO III**"
   ]
  },
  {
   "cell_type": "code",
   "execution_count": 11,
   "metadata": {},
   "outputs": [
    {
     "name": "stdout",
     "output_type": "stream",
     "text": [
      "Coeficientes de beta: [-0.98   3.957]\n"
     ]
    }
   ],
   "source": [
    "phi_2 = lambda regr: log(regr+1)\n",
    "MatA=np.ones((mpoints,2))\n",
    "MatA[:,1] = phi_2(x)\n",
    "MatQ,MatR = np.linalg.qr(MatA)\n",
    "mlogbeta = np.linalg.solve(MatR,MatQ.T@y)\n",
    "y_adjusted_QR = MatA@mlogbeta\n",
    "print('Coeficientes de beta:',mlogbeta)"
   ]
  },
  {
   "cell_type": "markdown",
   "metadata": {},
   "source": [
    "**GRÁFICAS DE LOS MODELOS**"
   ]
  },
  {
   "cell_type": "code",
   "execution_count": 13,
   "metadata": {},
   "outputs": [
    {
     "data": {
      "text/plain": [
       "Text(0.5, 1.0, 'datos')"
      ]
     },
     "execution_count": 13,
     "metadata": {},
     "output_type": "execute_result"
    },
    {
     "data": {
      "image/png": "[encoded data removed]",
      "text/plain": [
       "<Figure size 432x288 with 1 Axes>"
      ]
     },
     "metadata": {
      "needs_background": "light"
     },
     "output_type": "display_data"
    }
   ],
   "source": [
    "plt.plot(x, y, 'go', x, y_ajustadas_QR , 'b--', x, y_ajustadas_numpy, 'y-', x, y_adjusted_QR, 'r-')\n",
    "plt.legend(['datos', 'modelo1', 'modelo2, (cuadrát)', 'modelo3 (log)'], loc='best')\n",
    "plt.title('datos')"
   ]
  },
  {
   "cell_type": "markdown",
   "metadata": {},
   "source": [
    "**ECM**"
   ]
  },
  {
   "cell_type": "code",
   "execution_count": 15,
   "metadata": {},
   "outputs": [
    {
     "name": "stdout",
     "output_type": "stream",
     "text": [
      "El error cuadrático medio para el modelo1 () ES: 0.0977071429356011\n",
      "El error cuadrático medio para el modelo2 cuadrático es: 0.0798292425111074\n",
      "El error cuadrático medio para el modelo3 log es: 0.08027531879291548\n"
     ]
    }
   ],
   "source": [
    "ECM_M1=1/(y.shape[0]-1)*sum((y-y_ajustadas_QR)**2)\n",
    "ECM_M2=1/(y.shape[0]-1)*sum((y-y_ajustadas_numpy)**2)\n",
    "ECM_M3=1/(y.shape[0]-1)*sum((y-y_adjusted_QR)**2)\n",
    "print('El error cuadrático medio para el modelo1 () ES:',ECM_M1)\n",
    "print('El error cuadrático medio para el modelo2 cuadrático es:',ECM_M2)\n",
    "print('El error cuadrático medio para el modelo3 log es:',ECM_M3)"
   ]
  },
  {
   "cell_type": "markdown",
   "metadata": {},
   "source": [
    "**_CONCLUSIONES:_**  \n",
    "Observamos que el modelo cuadrático es el que presenta un mejor ajuste a los datos al observar que su ECM es menor, seguido del logarítmico."
   ]
  }
 ],
 "metadata": {
  "kernelspec": {
   "display_name": "Python 3",
   "language": "python",
   "name": "python3"
  },
  "language_info": {
   "codemirror_mode": {
    "name": "ipython",
    "version": 3
   },
   "file_extension": ".py",
   "mimetype": "text/x-python",
   "name": "python",
   "nbconvert_exporter": "python",
   "pygments_lexer": "ipython3",
   "version": "3.6.8"
  }
 },
 "nbformat": 4,
 "nbformat_minor": 2
}
