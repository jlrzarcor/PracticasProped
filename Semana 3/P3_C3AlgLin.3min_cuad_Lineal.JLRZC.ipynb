{
 "cells": [
  {
   "cell_type": "markdown",
   "metadata": {},
   "source": [
    "José Luis Roberto Zárate Cortés (000183347)\n",
    "### **Semana 3; Clase 3_algebra_lineal, 3_minimos_cuadrados**\n",
    "### _Lineales, No Lineales y Error Cuadrático Medio._\n",
    "1. Regresión Lineal, Modelo sin Intercepto.  \n",
    "Ejercicio: realizar el ajuste correspondiente para este caso con QR.  \n",
    "Se ajusta un modelo de la forma: $f(x|\\beta)=\\beta_1x$ a los datos $(x_i, y_i)$'s $\\forall  i=0,1,...,m$.  \n",
    "**Obs:** En este caso se elige $\\phi_1(x)=x$ y no hay $\\phi_0$ por lo que sólo se tiene que estimar $\\beta_1$.  \n",
    "_Nota:_ debido a lo mencionado en la Obs., no es posible utilizar la Mat A necesaria para el método QR. Por esta razón se utiliza el modelo general $A^{T}A\\beta=A^Ty$.  \n",
    "2. Error cuadrático medio: calcular el ECM de los ajustes anteriores (regresión lineal con y sin intercepto)"
   ]
  },
  {
   "cell_type": "code",
   "execution_count": 1,
   "metadata": {},
   "outputs": [],
   "source": [
    "import numpy as np\n",
    "import matplotlib.pyplot as plt\n",
    "import pprint\n",
    "np.set_printoptions(precision = 3)"
   ]
  },
  {
   "cell_type": "markdown",
   "metadata": {},
   "source": [
    "**DATOS DEL EJEMPLO**"
   ]
  },
  {
   "cell_type": "code",
   "execution_count": 2,
   "metadata": {},
   "outputs": [],
   "source": [
    "np.random.seed(1989) #para reproducibilidad\n",
    "mpoints = 20\n",
    "x = np.random.randn(mpoints) \n",
    "y = -3*x + np.random.normal(2,1,mpoints)"
   ]
  },
  {
   "cell_type": "code",
   "execution_count": 3,
   "metadata": {},
   "outputs": [
    {
     "data": {
      "text/plain": [
       "Text(0.5, 1.0, 'Puntos ejemplo')"
      ]
     },
     "execution_count": 3,
     "metadata": {},
     "output_type": "execute_result"
    },
    {
     "data": {
      "image/png": "[encoded data removed]",
      "text/plain": [
       "<Figure size 432x288 with 1 Axes>"
      ]
     },
     "metadata": {
      "needs_background": "light"
     },
     "output_type": "display_data"
    }
   ],
   "source": [
    "plt.plot(x,y, 'r*')\n",
    "plt.xlabel('x')\n",
    "plt.ylabel('y')\n",
    "plt.title('Puntos ejemplo')"
   ]
  },
  {
   "cell_type": "markdown",
   "metadata": {},
   "source": [
    "**Ajuste de modelos**"
   ]
  },
  {
   "cell_type": "code",
   "execution_count": 4,
   "metadata": {},
   "outputs": [],
   "source": [
    "# Modelo QR con intercepto\n",
    "\n",
    "A=np.ones((mpoints,2))\n",
    "A[:,1] = x\n",
    "\n",
    "Q,R = np.linalg.qr(A)\n",
    "beta = np.linalg.solve(R,Q.T@y)\n",
    "y_ajustadas_QR = A@beta\n",
    "\n",
    "# Modelo sin intercepto\n",
    "\n",
    "VA=x\n",
    "m2beta=(VA.T@y)/(VA.T@VA)\n",
    "y_ajustadas_m2 = VA*m2beta"
   ]
  },
  {
   "cell_type": "code",
   "execution_count": 5,
   "metadata": {},
   "outputs": [
    {
     "data": {
      "image/png": "[encoded data removed]",
      "text/plain": [
       "<Figure size 432x288 with 1 Axes>"
      ]
     },
     "metadata": {
      "needs_background": "light"
     },
     "output_type": "display_data"
    }
   ],
   "source": [
    "\n",
    "plt.plot(x, y, 'r*',x, y_ajustadas_QR , 'g-',x, y_ajustadas_m2 , 'k-')\n",
    "plt.legend(['yi','modlin c/interc','modlin s/interc'], loc='best')\n",
    "plt.grid()"
   ]
  },
  {
   "cell_type": "markdown",
   "metadata": {},
   "source": [
    "**ECM**"
   ]
  },
  {
   "cell_type": "code",
   "execution_count": 6,
   "metadata": {},
   "outputs": [
    {
     "name": "stdout",
     "output_type": "stream",
     "text": [
      "El error cuadrático medio para el modelo con intercepto es: 1.075551412567152\n",
      "El error cuadrático medio para el modelo sin intercepto es: 4.5402705888071395\n"
     ]
    }
   ],
   "source": [
    "ECM=1/(y.shape[0]-1)*sum((y-y_ajustadas_QR)**2)\n",
    "ECMm2=1/(y.shape[0]-1)*sum((y-y_ajustadas_m2)**2)\n",
    "print('El error cuadrático medio para el modelo con intercepto es:',ECM)\n",
    "print('El error cuadrático medio para el modelo sin intercepto es:',ECMm2)"
   ]
  },
  {
   "cell_type": "markdown",
   "metadata": {},
   "source": [
    "**Conclusiones:**\n",
    "Observemos que el modelo sin intercepto tiene un ECM mayor debido a que la \"nube\" de datos está lejana al orígen, por lo podemos concluir que este modelo debe ser utilizado bajo tal condición."
   ]
  }
 ],
 "metadata": {
  "kernelspec": {
   "display_name": "Python 3",
   "language": "python",
   "name": "python3"
  },
  "language_info": {
   "codemirror_mode": {
    "name": "ipython",
    "version": 3
   },
   "file_extension": ".py",
   "mimetype": "text/x-python",
   "name": "python",
   "nbconvert_exporter": "python",
   "pygments_lexer": "ipython3",
   "version": "3.6.8"
  }
 },
 "nbformat": 4,
 "nbformat_minor": 2
}
