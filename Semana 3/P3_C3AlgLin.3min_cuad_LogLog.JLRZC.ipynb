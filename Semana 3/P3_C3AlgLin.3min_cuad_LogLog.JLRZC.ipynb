{
 "cells": [
  {
   "cell_type": "markdown",
   "metadata": {},
   "source": [
    "José Luis Roberto Zárate Cortés (000183347)\n",
    "### **Semana 3; Clase 3_algebra_lineal, 3_minimos_cuadrados**\n",
    "### _No Lineales y Error Cuadrático Medio._\n",
    "1.- Ajusta por mínimos cuadrados dos modelos de la forma:\n",
    "* $\\log(y) = \\log(b) + a\\log(x)$, utilizaremos la sustitución $\\beta_0=log(b)$ y $f(x)=log(y)$\n",
    "* $\\log(y) = \\log(b) + a\\log(x) + c\\log(x)^2$. De igual forma, realizamos la sustitución: $f(x)=log(y),\\beta_0=log(b),\\beta_1=log(x),\\beta_2=log(x), $"
   ]
  },
  {
   "cell_type": "code",
   "execution_count": 1,
   "metadata": {},
   "outputs": [],
   "source": [
    "import numpy as np\n",
    "import matplotlib.pyplot as plt\n",
    "import pprint\n",
    "from numpy import log, exp\n",
    "from scipy.interpolate import interp1d\n",
    "np.set_printoptions(precision = 7)"
   ]
  },
  {
   "cell_type": "markdown",
   "metadata": {},
   "source": [
    "_DATOS_"
   ]
  },
  {
   "cell_type": "code",
   "execution_count": 2,
   "metadata": {},
   "outputs": [],
   "source": [
    "datos = np.loadtxt('datos_para_tarea_minimos_cuadrados.txt', skiprows=1)\n",
    "x = datos[:,0]\n",
    "y = datos[:,1]\n",
    "mpoints, = x.shape\n",
    "lnx=log(datos[:,0])\n",
    "lny=log(datos[:,1])\n",
    "xeval = np.linspace(min(lnx),max(lnx), 1000)"
   ]
  },
  {
   "cell_type": "markdown",
   "metadata": {},
   "source": [
    "**MODELO 1**"
   ]
  },
  {
   "cell_type": "code",
   "execution_count": 3,
   "metadata": {},
   "outputs": [
    {
     "name": "stdout",
     "output_type": "stream",
     "text": [
      "Coeficientes de beta: [0.2646476 0.5756426]\n"
     ]
    }
   ],
   "source": [
    "A=np.ones((mpoints,2))\n",
    "A[:,1] = lnx\n",
    "Q,R = np.linalg.qr(A)\n",
    "beta = np.linalg.solve(R,Q.T@lny)\n",
    "print('Coeficientes de beta:',beta)\n",
    "A2=np.ones((1000,2))\n",
    "A2[:,1] = xeval\n",
    "ymodlin = exp(A@beta)\n",
    "yhatmodlin = exp(A2@beta)"
   ]
  },
  {
   "cell_type": "markdown",
   "metadata": {},
   "source": [
    "**MODELO 2**"
   ]
  },
  {
   "cell_type": "code",
   "execution_count": 4,
   "metadata": {},
   "outputs": [
    {
     "name": "stdout",
     "output_type": "stream",
     "text": [
      "Coeficientes: [0.0669549 0.7006292 0.0496202]\n"
     ]
    }
   ],
   "source": [
    "coefpoln2 = np.polyfit(lnx,lny,2)\n",
    "ymodpol = exp(np.polyval(coefpoln2,lnx))\n",
    "yhatmodpol = exp(np.polyval(coefpoln2,xeval))\n",
    "print('Coeficientes:',coefpoln2)"
   ]
  },
  {
   "cell_type": "markdown",
   "metadata": {},
   "source": [
    "**GRÁFICAS DE LOS MODELOS**"
   ]
  },
  {
   "cell_type": "code",
   "execution_count": 5,
   "metadata": {},
   "outputs": [
    {
     "data": {
      "text/plain": [
       "Text(0.5, 1.0, 'datos')"
      ]
     },
     "execution_count": 5,
     "metadata": {},
     "output_type": "execute_result"
    },
    {
     "data": {
      "image/png": "[encoded data removed]",
      "text/plain": [
       "<Figure size 432x288 with 1 Axes>"
      ]
     },
     "metadata": {
      "needs_background": "light"
     },
     "output_type": "display_data"
    }
   ],
   "source": [
    "plt.plot(x, y, 'go', exp(xeval), yhatmodlin , 'b-', exp(xeval), yhatmodpol, 'r-')\n",
    "plt.legend(['datos', 'modelo1', 'modelo2'], loc='best')\n",
    "plt.title('datos')"
   ]
  },
  {
   "cell_type": "markdown",
   "metadata": {},
   "source": [
    "**ECM**"
   ]
  },
  {
   "cell_type": "code",
   "execution_count": 6,
   "metadata": {},
   "outputs": [
    {
     "name": "stdout",
     "output_type": "stream",
     "text": [
      "El error cuadrático medio para el modelo1 ES: 0.702828934313711\n",
      "El error cuadrático medio para el modelo2 cuadrático es: 0.5640028845042063\n"
     ]
    }
   ],
   "source": [
    "ECM_M1=1/(y.shape[0]-1)*sum((y-ymodlin)**2)\n",
    "ECM_M2=1/(y.shape[0]-1)*sum((y-ymodpol)**2)\n",
    "print('El error cuadrático medio para el modelo1 ES:',ECM_M1)\n",
    "print('El error cuadrático medio para el modelo2 cuadrático es:',ECM_M2)"
   ]
  },
  {
   "cell_type": "code",
   "execution_count": null,
   "metadata": {},
   "outputs": [],
   "source": []
  }
 ],
 "metadata": {
  "kernelspec": {
   "display_name": "Python 3",
   "language": "python",
   "name": "python3"
  },
  "language_info": {
   "codemirror_mode": {
    "name": "ipython",
    "version": 3
   },
   "file_extension": ".py",
   "mimetype": "text/x-python",
   "name": "python",
   "nbconvert_exporter": "python",
   "pygments_lexer": "ipython3",
   "version": "3.6.8"
  }
 },
 "nbformat": 4,
 "nbformat_minor": 2
}
