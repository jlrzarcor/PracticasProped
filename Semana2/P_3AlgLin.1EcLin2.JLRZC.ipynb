{
 "cells": [
  {
   "cell_type": "markdown",
   "metadata": {},
   "source": [
    "José Luis Roberto Zárate Cortés (000183347)\n",
    "# Semana 3; Clase 3_algebra_lineal, 1_ecuaciones_lineales\n",
    "Ejercicio: resolver los sistemas de ecuaciones lineales $$Ax=B$$ con la factorización P, LU y verificar resultado"
   ]
  },
  {
   "cell_type": "code",
   "execution_count": 2,
   "metadata": {},
   "outputs": [],
   "source": [
    "import scipy\n",
    "import scipy.linalg \n",
    "import numpy as np\n",
    "import pprint"
   ]
  },
  {
   "cell_type": "code",
   "execution_count": 4,
   "metadata": {},
   "outputs": [
    {
     "name": "stdout",
     "output_type": "stream",
     "text": [
      "Matriz A:\n",
      "array([[ 0,  1, -1],\n",
      "       [-2,  4, -1],\n",
      "       [-2,  5, -4]])\n",
      "Matriz P:\n",
      "array([[0., 1., 0.],\n",
      "       [1., 0., 0.],\n",
      "       [0., 0., 1.]])\n",
      "Matriz L:\n",
      "array([[ 1.,  0.,  0.],\n",
      "       [-0.,  1.,  0.],\n",
      "       [ 1.,  1.,  1.]])\n",
      "Matriz U:\n",
      "array([[-2.,  4., -1.],\n",
      "       [ 0.,  1., -1.],\n",
      "       [ 0.,  0., -2.]])\n"
     ]
    }
   ],
   "source": [
    "MatA = scipy.array([[ 0, 1, -1], [ -2, 4, -1], [ -2, 5, -4]])\n",
    "MatB = scipy.array([[ 3, -5], [ 1, 7], [ -2, 0]])\n",
    "\n",
    "P, L, U = scipy.linalg.lu(MatA)\n",
    "\n",
    "print('Matriz A:')\n",
    "pprint.pprint(MatA)\n",
    "print('Matriz P:')\n",
    "pprint.pprint(P)\n",
    "print('Matriz L:')\n",
    "pprint.pprint(L)\n",
    "print('Matriz U:')\n",
    "pprint.pprint(U)"
   ]
  },
  {
   "cell_type": "code",
   "execution_count": 10,
   "metadata": {},
   "outputs": [
    {
     "name": "stdout",
     "output_type": "stream",
     "text": [
      "Vector Solución:\n",
      "array([[ 10., -12.],\n",
      "       [  6.,  -4.],\n",
      "       [  3.,   1.]])\n"
     ]
    }
   ],
   "source": [
    "D = scipy.linalg.solve_triangular(L,P@MatB,lower=True)\n",
    "VSol = scipy.linalg.solve_triangular(U,D)\n",
    "print('Vector Solución:')\n",
    "pprint.pprint(VSol)"
   ]
  },
  {
   "cell_type": "code",
   "execution_count": 11,
   "metadata": {},
   "outputs": [
    {
     "name": "stdout",
     "output_type": "stream",
     "text": [
      "Validar vector solución Ax = B\n",
      "MatB:\n",
      "array([[ 3, -5],\n",
      "       [ 1,  7],\n",
      "       [-2,  0]])\n",
      "Ax:\n",
      "array([[ 3., -5.],\n",
      "       [ 1.,  7.],\n",
      "       [-2.,  0.]])\n"
     ]
    }
   ],
   "source": [
    "print('Validar vector solución Ax = B')\n",
    "print('MatB:')\n",
    "pprint.pprint(MatB)\n",
    "print('Ax:')\n",
    "pprint.pprint(MatA@VSol)"
   ]
  }
 ],
 "metadata": {
  "kernelspec": {
   "display_name": "Python 3",
   "language": "python",
   "name": "python3"
  },
  "language_info": {
   "codemirror_mode": {
    "name": "ipython",
    "version": 3
   },
   "file_extension": ".py",
   "mimetype": "text/x-python",
   "name": "python",
   "nbconvert_exporter": "python",
   "pygments_lexer": "ipython3",
   "version": "3.6.8"
  }
 },
 "nbformat": 4,
 "nbformat_minor": 2
}
