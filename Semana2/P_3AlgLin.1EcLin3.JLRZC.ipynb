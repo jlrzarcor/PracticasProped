{
 "cells": [
  {
   "cell_type": "markdown",
   "metadata": {},
   "source": [
    "José Luis Roberto Zárate Cortés (000183347)\n",
    "# Semana 3; Clase 3_algebra_lineal, 1_ecuaciones_lineales\n",
    "Ejercicio: resolver los sistemas de ecuaciones lineales $$Ax=B$$ con la factorización P, LU y verificar resultado"
   ]
  },
  {
   "cell_type": "code",
   "execution_count": 1,
   "metadata": {},
   "outputs": [],
   "source": [
    "import scipy\n",
    "import scipy.linalg \n",
    "import numpy as np\n",
    "import pprint"
   ]
  },
  {
   "cell_type": "code",
   "execution_count": 2,
   "metadata": {},
   "outputs": [
    {
     "name": "stdout",
     "output_type": "stream",
     "text": [
      "array([0, 0, 0])\n",
      "Matriz A:\n",
      "array([[1, 2, 2],\n",
      "       [2, 5, 7],\n",
      "       [3, 6, 6]])\n",
      "Matriz P:\n",
      "array([[0., 0., 1.],\n",
      "       [0., 1., 0.],\n",
      "       [1., 0., 0.]])\n",
      "Matriz L:\n",
      "array([[1.        , 0.        , 0.        ],\n",
      "       [0.66666667, 1.        , 0.        ],\n",
      "       [0.33333333, 0.        , 1.        ]])\n",
      "Matriz U:\n",
      "array([[3., 6., 6.],\n",
      "       [0., 1., 3.],\n",
      "       [0., 0., 0.]])\n"
     ]
    }
   ],
   "source": [
    "MatA = scipy.array([[ 1, 2, 2], [ 2, 5, 7], [ 3, 6, 6]])\n",
    "MatB = scipy.array([0,0,0])\n",
    "pprint.pprint(MatB)\n",
    "P, L, U = scipy.linalg.lu(MatA)\n",
    "\n",
    "print('Matriz A:')\n",
    "pprint.pprint(MatA)\n",
    "print('Matriz P:')\n",
    "pprint.pprint(P)\n",
    "print('Matriz L:')\n",
    "pprint.pprint(L)\n",
    "print('Matriz U:')\n",
    "pprint.pprint(U)"
   ]
  },
  {
   "cell_type": "code",
   "execution_count": 3,
   "metadata": {},
   "outputs": [
    {
     "name": "stdout",
     "output_type": "stream",
     "text": [
      "array([0., 0., 0.])\n"
     ]
    }
   ],
   "source": [
    "D = scipy.linalg.solve_triangular(L,P@MatB,lower=True)\n",
    "pprint.pprint(D)\n",
    "#VSol = scipy.linalg.solve_triangular(U,D)\n",
    "#print('Vector Solución:')\n",
    "#pprint.pprint(VSol)"
   ]
  },
  {
   "cell_type": "markdown",
   "metadata": {},
   "source": [
    "AL observar la matriz A, observamos que existe redundancia entre renglones, que se puede corroborar en la Matriz, por lo tanto asignamos la tercer variable libre y a partir de esta construimos nuestro Vector Solución:\n",
    "\n",
    "Sea z libre, entonces y+3z=0 -> y=-3z y 3x+6(-3z)+6z=0 -> x=4z\n",
    "$$VSol=array([4z, -3z, z])$$"
   ]
  },
  {
   "cell_type": "code",
   "execution_count": 4,
   "metadata": {},
   "outputs": [
    {
     "name": "stdout",
     "output_type": "stream",
     "text": [
      "Validar vector solución Ax = B\n",
      "MatB:\n",
      "array([0, 0, 0])\n",
      "Ax:\n",
      "array([0, 0, 0])\n"
     ]
    }
   ],
   "source": [
    "VSol=([28,-21,7])\n",
    "print('Validar vector solución Ax = B')\n",
    "print('MatB:')\n",
    "pprint.pprint(MatB)\n",
    "print('Ax:')\n",
    "pprint.pprint(MatA@VSol)"
   ]
  }
 ],
 "metadata": {
  "kernelspec": {
   "display_name": "Python 3",
   "language": "python",
   "name": "python3"
  },
  "language_info": {
   "codemirror_mode": {
    "name": "ipython",
    "version": 3
   },
   "file_extension": ".py",
   "mimetype": "text/x-python",
   "name": "python",
   "nbconvert_exporter": "python",
   "pygments_lexer": "ipython3",
   "version": "3.6.8"
  }
 },
 "nbformat": 4,
 "nbformat_minor": 2
}
