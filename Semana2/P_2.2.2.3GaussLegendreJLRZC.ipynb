{
 "cells": [
  {
   "cell_type": "markdown",
   "metadata": {},
   "source": [
    "José Luis Roberto Zárate Cortés (000183347)\n",
    "# Semana 2; Clase 2_calculo_DeI; Práctica 2, 1_aproximacion_a_derivadas_e_integrales.ipynb.\n",
    "\n",
    "Ejercicio 3: aproximar la integral de:\n",
    "$$\\int_{0}^1 e^{\\frac{-t^2}{2}}dt$$\n",
    "con cuadratura Gauss-Legendre con $n E [0,1,2,3,4]$. Realizar gráfica de la forma error relativo vs $n$ ($n$ en el eje horizontal). Valor a aproximar: $0.855624391892149$"
   ]
  },
  {
   "cell_type": "markdown",
   "metadata": {},
   "source": [
    "# SOLUCIÓN:\n",
    "Sabemos que la aproximación por Gauss-Legendre esta definida en un intervalo [-1,1] y la integral a evaluar en [0,1]. Al observar el integrando, podemos validar por inspección que la función es Simétrica Par (cuadrática), esto es $f(-x)=f(x)$, y la integral de una función simétrica par está dada por $$2\\int_{0}^1 f(x)dx,$$ por lo que podemos extender la región de integración a $[-1,1]$ y multiplicar por $\\frac{1}{2}.$"
   ]
  },
  {
   "cell_type": "code",
   "execution_count": 1,
   "metadata": {},
   "outputs": [],
   "source": [
    "import numpy as np\n",
    "import matplotlib.pyplot as plt\n",
    "from numpy import arange, pi, sin, abs, array, sqrt, exp"
   ]
  },
  {
   "cell_type": "code",
   "execution_count": 2,
   "metadata": {},
   "outputs": [],
   "source": [
    "a=-1\n",
    "b=1\n",
    "valint=0.855624391892149"
   ]
  },
  {
   "cell_type": "code",
   "execution_count": 3,
   "metadata": {},
   "outputs": [],
   "source": [
    "#Function Nodes\n",
    "\n",
    "basen=array([0,1,2,3,4])\n",
    "flsumando = lambda x, w : w*exp((-1/2)*((1/2)*((b-a)*x+a+b))**2)\n",
    "\n",
    "def F_gausslegendre(n):\n",
    "    xi = array([[0,0,0,0,0],[-sqrt(1/3),sqrt(1/3),0,0,0],[-sqrt(3/5),0,-sqrt(3/5),0,0],[-0.861136,-0.339981,0.339981,0.861136,0],[-0.90618,-0.538469, 0,0.538469,0.90618]])\n",
    "    wi = array([[2,0,0,0,0],[1,1,0,0,0],[(5/9),(8/9),(5/9),0,0],[0.347855,0.652145,0.652145,0.347855,0],[0.236927,0.478629,0.568889,0.478629,0.236927]])\n",
    "    suma=0\n",
    "    for i in range(n+1):\n",
    "        suma=suma+flsumando(xi[n,i],wi[n,i])\n",
    "    fgauleg=(1/2)*(b-a)*(1/2)*suma # de acuerdo con el criterio de simetría\n",
    "    Err_Rel_GL=abs(fgauleg-valint)/valint \n",
    "    print('Valfun=',fgauleg,\", Error Rel=\",Err_Rel_GL)\n",
    "    return Err_Rel_GL"
   ]
  },
  {
   "cell_type": "code",
   "execution_count": 4,
   "metadata": {},
   "outputs": [
    {
     "name": "stdout",
     "output_type": "stream",
     "text": [
      "Valfun= 1.0 , Error Rel= 0.168737134513633\n",
      "Valfun= 0.8464817248906141 , Error Rel= 0.01068537443318622\n",
      "Valfun= 0.8560101226009544 , Error Rel= 0.00045081780330317295\n",
      "Valfun= 0.8556122865618333 , Error Rel= 1.4147949065516567e-05\n",
      "Valfun= 0.8556251607865597 , Error Rel= 8.986354503009721e-07\n"
     ]
    },
    {
     "data": {
      "image/png": "[encoded data removed]",
      "text/plain": [
       "<Figure size 432x288 with 1 Axes>"
      ]
     },
     "metadata": {
      "needs_background": "light"
     },
     "output_type": "display_data"
    }
   ],
   "source": [
    "plt.plot(basen,list(map(F_gausslegendre,basen)))\n",
    "plt.xlabel('n-values')\n",
    "plt.legend(('ErrorRelat'),loc = 0)\n",
    "plt.show()"
   ]
  }
 ],
 "metadata": {
  "kernelspec": {
   "display_name": "Python 3",
   "language": "python",
   "name": "python3"
  },
  "language_info": {
   "codemirror_mode": {
    "name": "ipython",
    "version": 3
   },
   "file_extension": ".py",
   "mimetype": "text/x-python",
   "name": "python",
   "nbconvert_exporter": "python",
   "pygments_lexer": "ipython3",
   "version": "3.6.8"
  }
 },
 "nbformat": 4,
 "nbformat_minor": 2
}
