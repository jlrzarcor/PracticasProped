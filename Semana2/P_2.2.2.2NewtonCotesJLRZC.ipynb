{
 "cells": [
  {
   "cell_type": "markdown",
   "metadata": {},
   "source": [
    "José Luis Roberto Zárate Cortés (000183347)\n",
    "# Semana 2; Clase 2_calculo_DeI; Práctica 2, 1_aproximacion_a_derivadas_e_integrales.ipynb.\n",
    "\n",
    "Ejercicio 2, Newton Cotes: Regla del Rectángulo, del Trapecio y Simpson\n",
    "Aproximar el valor de la integral de 0 a Pi de sin(x)dx=2 con reglas compuestas del rectángulo y trapecio con un número de subintervalos n e {1,10,20,30,40} y hacer gráfica de la forma error relativo vs n (n en el eje horizontal)"
   ]
  },
  {
   "cell_type": "code",
   "execution_count": 1,
   "metadata": {},
   "outputs": [],
   "source": [
    "import numpy as np\n",
    "import matplotlib.pyplot as plt\n",
    "from numpy import arange, pi, sin, abs, array"
   ]
  },
  {
   "cell_type": "code",
   "execution_count": 2,
   "metadata": {},
   "outputs": [
    {
     "name": "stdout",
     "output_type": "stream",
     "text": [
      "1.0\n",
      "0.9999999999999999\n"
     ]
    }
   ],
   "source": [
    "#Function Nodes\n",
    "\n",
    "nodos=array([1,10,20,30,40])\n",
    "\n",
    "def F_rectangulo(n):\n",
    "    x = arange(0,pi,(1/n)*pi)\n",
    "    I_rectangulo=(sum(sin(x)))*pi/n\n",
    "    Err_Rel_R=abs(I_rectangulo-2)/2\n",
    "    return Err_Rel_R\n",
    "\n",
    "Mat_F_rectangulo=([F_rectangulo(1),F_rectangulo(10),F_rectangulo(20),F_rectangulo(30),F_rectangulo(40)])\n",
    "\n",
    "def F_trapecio(n):\n",
    "    x = arange((1/n)*pi,pi,(1/n)*pi)\n",
    "    I_trapecio=(sin(0)+sum(2*sin(x))+sin(pi))*(pi/n)/2\n",
    "    Err_Rel_T=abs(I_trapecio-2)/2\n",
    "    return Err_Rel_T\n",
    "\n",
    "Mat_F_trapecio=([F_trapecio(1),F_trapecio(10),F_trapecio(20),F_trapecio(30),F_trapecio(40)])\n",
    "\n",
    "print(F_rectangulo(1))\n",
    "print(F_trapecio(1))\n"
   ]
  },
  {
   "cell_type": "code",
   "execution_count": 3,
   "metadata": {},
   "outputs": [
    {
     "data": {
      "image/png": "[encoded data removed]",
      "text/plain": [
       "<Figure size 432x288 with 1 Axes>"
      ]
     },
     "metadata": {
      "needs_background": "light"
     },
     "output_type": "display_data"
    }
   ],
   "source": [
    "#plt.plot(nodos,F_rectangulo(nodos),nodos,F_trapecio(nodos))\n",
    "plt.plot(nodos,Mat_F_rectangulo,nodos,Mat_F_trapecio)\n",
    "plt.xlabel('xnodes')\n",
    "plt.legend(('rectangulo','trapecio'),loc = 0)\n",
    "plt.show()"
   ]
  }
 ],
 "metadata": {
  "kernelspec": {
   "display_name": "Python 3",
   "language": "python",
   "name": "python3"
  },
  "language_info": {
   "codemirror_mode": {
    "name": "ipython",
    "version": 3
   },
   "file_extension": ".py",
   "mimetype": "text/x-python",
   "name": "python",
   "nbconvert_exporter": "python",
   "pygments_lexer": "ipython3",
   "version": "3.6.8"
  }
 },
 "nbformat": 4,
 "nbformat_minor": 2
}
