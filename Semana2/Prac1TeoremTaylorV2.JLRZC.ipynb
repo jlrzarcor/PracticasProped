{
 "cells": [
  {
   "cell_type": "code",
   "execution_count": 15,
   "metadata": {},
   "outputs": [],
   "source": [
    "#Ejercicio: graficar la función y los polinomios constante, lineal y cuadrático en una sola gráfica con\n",
    "#matplotlib en el intervalo [1,2]. ¿Cuánto es la aproximación de los polinomios en x=1.9? Calcula el\n",
    "#error relativo de tus aproximaciones.\n",
    "#Práctica 4, Versión2, José Luis Roberto Zarate Cortes"
   ]
  },
  {
   "cell_type": "code",
   "execution_count": 1,
   "metadata": {},
   "outputs": [],
   "source": [
    "import numpy as np\n",
    "import matplotlib.pyplot as plt"
   ]
  },
  {
   "cell_type": "code",
   "execution_count": 2,
   "metadata": {},
   "outputs": [],
   "source": [
    "from numpy import arange"
   ]
  },
  {
   "cell_type": "code",
   "execution_count": 3,
   "metadata": {},
   "outputs": [
    {
     "data": {
      "text/plain": [
       "array([1.  , 1.01, 1.02, 1.03, 1.04, 1.05, 1.06, 1.07, 1.08, 1.09, 1.1 ,\n",
       "       1.11, 1.12, 1.13, 1.14, 1.15, 1.16, 1.17, 1.18, 1.19, 1.2 , 1.21,\n",
       "       1.22, 1.23, 1.24, 1.25, 1.26, 1.27, 1.28, 1.29, 1.3 , 1.31, 1.32,\n",
       "       1.33, 1.34, 1.35, 1.36, 1.37, 1.38, 1.39, 1.4 , 1.41, 1.42, 1.43,\n",
       "       1.44, 1.45, 1.46, 1.47, 1.48, 1.49, 1.5 , 1.51, 1.52, 1.53, 1.54,\n",
       "       1.55, 1.56, 1.57, 1.58, 1.59, 1.6 , 1.61, 1.62, 1.63, 1.64, 1.65,\n",
       "       1.66, 1.67, 1.68, 1.69, 1.7 , 1.71, 1.72, 1.73, 1.74, 1.75, 1.76,\n",
       "       1.77, 1.78, 1.79, 1.8 , 1.81, 1.82, 1.83, 1.84, 1.85, 1.86, 1.87,\n",
       "       1.88, 1.89, 1.9 , 1.91, 1.92, 1.93, 1.94, 1.95, 1.96, 1.97, 1.98,\n",
       "       1.99])"
      ]
     },
     "execution_count": 3,
     "metadata": {},
     "output_type": "execute_result"
    }
   ],
   "source": [
    "x=arange(1,2,0.01)\n",
    "x"
   ]
  },
  {
   "cell_type": "code",
   "execution_count": 4,
   "metadata": {},
   "outputs": [],
   "source": [
    "vect=np.ones(100)\n",
    "vect=vect*(2/3)"
   ]
  },
  {
   "cell_type": "code",
   "execution_count": 5,
   "metadata": {},
   "outputs": [],
   "source": [
    "def aprox_pol1x(x,xzero=1.5): \n",
    "    pol1x =(2/3)-(1/x**2)*(x-xzero)\n",
    "    return pol1x"
   ]
  },
  {
   "cell_type": "code",
   "execution_count": 6,
   "metadata": {},
   "outputs": [],
   "source": [
    "pol2x = lambda x : (2/3)-(1/1.5**2)*(x-1.5)+(2/1.5**3)*(x-1.5)**2"
   ]
  },
  {
   "cell_type": "code",
   "execution_count": 7,
   "metadata": {},
   "outputs": [
    {
     "data": {
      "image/png": "[encoded data removed]",
      "text/plain": [
       "<Figure size 432x288 with 1 Axes>"
      ]
     },
     "metadata": {
      "needs_background": "light"
     },
     "output_type": "display_data"
    }
   ],
   "source": [
    "plt.plot(x,vect,'o-',x,aprox_pol1x(x),'^-',x,pol2x(x),'*-')\n",
    "plt.xlabel('xvalues')\n",
    "plt.legend(('constante','p1x','p2x'),loc = 0)\n",
    "plt.show()"
   ]
  },
  {
   "cell_type": "code",
   "execution_count": 9,
   "metadata": {},
   "outputs": [],
   "source": [
    "#Aproximación en x=1.9\n",
    "x=1.9\n",
    "aprxpol1=aprox_pol1x(x)\n",
    "aprxpol2=pol2x(x)"
   ]
  },
  {
   "cell_type": "code",
   "execution_count": 10,
   "metadata": {},
   "outputs": [],
   "source": [
    "def funcion(x):\n",
    "    funcval = 1/x\n",
    "    return funcval"
   ]
  },
  {
   "cell_type": "code",
   "execution_count": 11,
   "metadata": {},
   "outputs": [
    {
     "name": "stdout",
     "output_type": "stream",
     "text": [
      "Para valores de x=1.9\n",
      "función:  0.5263157894736842\n",
      "aprox pol2:  0.5558633425669437\n",
      "aprox pol1:  0.5837037037037037\n",
      "err rel pol1:  0.029547553093259515\n",
      "err rel pol2:  0.05738791423001954\n"
     ]
    }
   ],
   "source": [
    "func=funcion(x)\n",
    "ErrRel1=abs(func-aprxpol1)\n",
    "ErrRel2=abs(func-aprxpol2)\n",
    "print('Para valores de x=1.9')\n",
    "print('función: ', func)\n",
    "print('aprox pol2: ', aprxpol1)\n",
    "print('aprox pol1: ', aprxpol2)\n",
    "print('err rel pol1: ', ErrRel1)\n",
    "print('err rel pol2: ', ErrRel2)"
   ]
  },
  {
   "cell_type": "code",
   "execution_count": null,
   "metadata": {},
   "outputs": [],
   "source": []
  }
 ],
 "metadata": {
  "kernelspec": {
   "display_name": "Python 3",
   "language": "python",
   "name": "python3"
  },
  "language_info": {
   "codemirror_mode": {
    "name": "ipython",
    "version": 3
   },
   "file_extension": ".py",
   "mimetype": "text/x-python",
   "name": "python",
   "nbconvert_exporter": "python",
   "pygments_lexer": "ipython3",
   "version": "3.6.8"
  }
 },
 "nbformat": 4,
 "nbformat_minor": 2
}
