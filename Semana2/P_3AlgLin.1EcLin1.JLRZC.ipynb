{
 "cells": [
  {
   "cell_type": "markdown",
   "metadata": {},
   "source": [
    "José Luis Roberto Zárate Cortés (000183347)\n",
    "# Semana 3; Clase 3_algebra_lineal, 1_ecuaciones_lineales\n",
    "Ejercicio: resolver el ejercicio 3) con la factorización QR del paquete numpy de la matriz A y verificar resultado.\n",
    "$$Ax=B$$"
   ]
  },
  {
   "cell_type": "code",
   "execution_count": 1,
   "metadata": {},
   "outputs": [],
   "source": [
    "import scipy\n",
    "import scipy.linalg \n",
    "import numpy as np\n",
    "import pprint"
   ]
  },
  {
   "cell_type": "code",
   "execution_count": 2,
   "metadata": {},
   "outputs": [],
   "source": [
    "MatA = scipy.array([[2, -1, 2], [1, 6, -1], [1, 4, 1]])\n",
    "MatB = scipy.array([[7, -1], [13, 6], [5, 7]])"
   ]
  },
  {
   "cell_type": "code",
   "execution_count": 3,
   "metadata": {},
   "outputs": [
    {
     "name": "stdout",
     "output_type": "stream",
     "text": [
      "array([[ 2, -1,  2],\n",
      "       [ 1,  6, -1],\n",
      "       [ 1,  4,  1]])\n",
      "array([[ 7, -1],\n",
      "       [13,  6],\n",
      "       [ 5,  7]])\n"
     ]
    }
   ],
   "source": [
    "pprint.pprint(MatA)\n",
    "pprint.pprint(MatB)"
   ]
  },
  {
   "cell_type": "code",
   "execution_count": 4,
   "metadata": {},
   "outputs": [],
   "source": [
    "Q,R = scipy.linalg.qr(MatA)\n",
    "QT=np.transpose(Q)"
   ]
  },
  {
   "cell_type": "code",
   "execution_count": 5,
   "metadata": {},
   "outputs": [
    {
     "name": "stdout",
     "output_type": "stream",
     "text": [
      "Matriz Q:\n",
      "array([[-0.81649658,  0.56354707, -0.12549116],\n",
      "       [-0.40824829, -0.71724173, -0.56471022],\n",
      "       [-0.40824829, -0.40985242,  0.81569255]])\n",
      "Matriz R:\n",
      "array([[-2.44948974, -3.26598632, -1.63299316],\n",
      "       [ 0.        , -6.5064071 ,  1.43448345],\n",
      "       [ 0.        ,  0.        ,  1.12942045]])\n",
      "Matriz QT:\n",
      "array([[-0.81649658, -0.40824829, -0.40824829],\n",
      "       [ 0.56354707, -0.71724173, -0.40985242],\n",
      "       [-0.12549116, -0.56471022,  0.81569255]])\n"
     ]
    }
   ],
   "source": [
    "print(\"Matriz Q:\")\n",
    "pprint.pprint(Q)\n",
    "print(\"Matriz R:\")\n",
    "pprint.pprint(R)\n",
    "print(\"Matriz QT:\")\n",
    "pprint.pprint(QT)"
   ]
  },
  {
   "cell_type": "code",
   "execution_count": 6,
   "metadata": {},
   "outputs": [
    {
     "name": "stdout",
     "output_type": "stream",
     "text": [
      "array([[ 2., -1.,  2.],\n",
      "       [ 1.,  6., -1.],\n",
      "       [ 1.,  4.,  1.]])\n",
      "array([[ 1.00000000e+00,  1.52655666e-16, -1.38777878e-17],\n",
      "       [ 1.52655666e-16,  1.00000000e+00, -5.55111512e-17],\n",
      "       [-1.38777878e-17, -5.55111512e-17,  1.00000000e+00]])\n"
     ]
    }
   ],
   "source": [
    "pprint.pprint(Q@R) # Validación de QR=A\n",
    "pprint.pprint(Q@QT)# Validación de Q'Q=I"
   ]
  },
  {
   "cell_type": "code",
   "execution_count": 7,
   "metadata": {},
   "outputs": [
    {
     "name": "stdout",
     "output_type": "stream",
     "text": [
      "Vector Sol:\n",
      "array([[ 7.33333333, -1.83333333],\n",
      "       [ 0.33333333,  1.66666667],\n",
      "       [-3.66666667,  2.16666667]])\n"
     ]
    }
   ],
   "source": [
    "#Resolviendo Rx=QTB\n",
    "VSol = scipy.linalg.solve_triangular(R,QT@MatB)\n",
    "print(\"Vector Sol:\")\n",
    "pprint.pprint(VSol)"
   ]
  },
  {
   "cell_type": "code",
   "execution_count": 8,
   "metadata": {},
   "outputs": [
    {
     "name": "stdout",
     "output_type": "stream",
     "text": [
      "Validar solución AX = B\n",
      "Matriz B:\n",
      "array([[ 7, -1],\n",
      "       [13,  6],\n",
      "       [ 5,  7]])\n",
      "VectAX:\n",
      "array([[ 7., -1.],\n",
      "       [13.,  6.],\n",
      "       [ 5.,  7.]])\n"
     ]
    }
   ],
   "source": [
    "print('Validar solución AX = B')\n",
    "print('Matriz B:')\n",
    "pprint.pprint(MatB)\n",
    "print('VectAX:')\n",
    "pprint.pprint(MatA@VSol)"
   ]
  }
 ],
 "metadata": {
  "kernelspec": {
   "display_name": "Python 3",
   "language": "python",
   "name": "python3"
  },
  "language_info": {
   "codemirror_mode": {
    "name": "ipython",
    "version": 3
   },
   "file_extension": ".py",
   "mimetype": "text/x-python",
   "name": "python",
   "nbconvert_exporter": "python",
   "pygments_lexer": "ipython3",
   "version": "3.6.8"
  }
 },
 "nbformat": 4,
 "nbformat_minor": 2
}
