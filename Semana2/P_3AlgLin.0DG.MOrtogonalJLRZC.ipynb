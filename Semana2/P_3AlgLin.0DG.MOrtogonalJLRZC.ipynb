{
 "cells": [
  {
   "cell_type": "markdown",
   "metadata": {},
   "source": [
    "José Luis Roberto Zárate Cortés (000183347)\n",
    "### **Semana 3; Clase 3_algebra_lineal, 0_definiciones_generales**\n",
    "### _Ejercicios (Matriz ortogonal)._\n",
    "\n",
    "1.- Rotación: usar la matriz de rotación $R_\\theta=\\begin{bmatrix} cos(\\theta) & -sin(\\theta) \\\\ sin(\\theta) & cos(\\theta)\\end{bmatrix}$ para rotar un ángulo de $\\frac{\\pi}{3}$ en sentido contrario a las manecillas del reloj al vector $\\left(\\begin{array} \\\\ -3 \\\\ 4 \\end{array}\\right)$.\n",
    "\n",
    "2.- Reflexión: $R_H=I-2\\frac{uu^T}{u^Tu}$\n",
    "\n",
    "Reflejar al vector $\\left(\\begin{array} \\\\1 \\\\ 1 \\end{array}\\right)$ utilizando al vector $\\left(\\begin{array} \\\\ \\frac{-4}{3} \\\\ \\frac{2}{3} \\end{array}\\right)$ para construir a $R_H$."
   ]
  },
  {
   "cell_type": "code",
   "execution_count": 1,
   "metadata": {},
   "outputs": [],
   "source": [
    "import numpy as np\n",
    "import pprint\n",
    "from  numpy import transpose, sin, cos, pi, identity, sqrt\n",
    "import matplotlib.pyplot as plt\n",
    "import scipy\n",
    "import scipy.linalg"
   ]
  },
  {
   "cell_type": "code",
   "execution_count": 2,
   "metadata": {},
   "outputs": [
    {
     "name": "stdout",
     "output_type": "stream",
     "text": [
      "array([[ 0.5      , -0.8660254],\n",
      "       [ 0.8660254,  0.5      ]])\n",
      "array([-3,  4])\n"
     ]
    }
   ],
   "source": [
    "# EJERCICIO 1 ROTACIÓN\n",
    "\n",
    "theta=pi/3\n",
    "Rtheta=np.array([[cos(theta),-sin(theta)],[sin(theta),cos(theta)]])\n",
    "V0=np.array([-3,4])\n",
    "pprint.pprint(Rtheta)\n",
    "pprint.pprint(V0)"
   ]
  },
  {
   "cell_type": "code",
   "execution_count": 3,
   "metadata": {},
   "outputs": [
    {
     "name": "stdout",
     "output_type": "stream",
     "text": [
      "array([[1., 0.],\n",
      "       [0., 1.]])\n"
     ]
    }
   ],
   "source": [
    "# Validamos que Rtheta sea Ortogonal:\n",
    "pprint.pprint(Rtheta@transpose(Rtheta))"
   ]
  },
  {
   "cell_type": "code",
   "execution_count": 4,
   "metadata": {},
   "outputs": [
    {
     "name": "stdout",
     "output_type": "stream",
     "text": [
      "El vector solución con rotación pi/3 al vector V0 es:\n",
      "array([[-4.96410162],\n",
      "       [-0.59807621]])\n"
     ]
    },
    {
     "data": {
      "image/png": "[encoded data removed]",
      "text/plain": [
       "<Figure size 432x288 with 1 Axes>"
      ]
     },
     "metadata": {
      "needs_background": "light"
     },
     "output_type": "display_data"
    }
   ],
   "source": [
    "VSol=Rtheta@V0\n",
    "print('El vector solución con rotación pi/3 al vector V0 es:')\n",
    "pprint.pprint(VSol.reshape(2,1))\n",
    "\n",
    "plt.quiver([-3],[4], angles='xy', scale_units='xy', scale=1, color='green', label='V0')\n",
    "plt.quiver(VSol[0],VSol[1], angles='xy', scale_units='xy', scale=1, color ='blue', label='VSol')\n",
    "plt.axhline(0, color='gray')\n",
    "plt.axvline(0, color='gray')\n",
    "plt.xlim([-6, 5])\n",
    "plt.ylim([-2, 5])\n",
    "plt.grid()\n",
    "plt.xlabel('X',color='red')\n",
    "plt.ylabel('Y',color='red')\n",
    "plt.legend(loc = 4)\n",
    "plt.show()"
   ]
  },
  {
   "cell_type": "code",
   "execution_count": 5,
   "metadata": {},
   "outputs": [
    {
     "name": "stdout",
     "output_type": "stream",
     "text": [
      "Matriz R de Householder:\n",
      "array([[-0.6,  0.8],\n",
      "       [ 0.8,  0.6]])\n"
     ]
    }
   ],
   "source": [
    "# EJERCICIO 2 REFLEXIÓN\n",
    "\n",
    "# Construimos la matriz u con el vector dado\n",
    "V0=np.array([1,1])\n",
    "Vu=np.array([[-4/3,],[2/3]])\n",
    "I=identity(2)\n",
    "H=(1/2)*transpose(Vu)@Vu\n",
    "RH=I-Vu@transpose(Vu)*(1/H)\n",
    "print('Matriz R de Householder:')\n",
    "pprint.pprint(RH)"
   ]
  },
  {
   "cell_type": "code",
   "execution_count": 6,
   "metadata": {},
   "outputs": [
    {
     "name": "stdout",
     "output_type": "stream",
     "text": [
      "El vector resultado (reflejo de V0) es:\n"
     ]
    },
    {
     "data": {
      "text/plain": [
       "array([[0.2],\n",
       "       [1.4]])"
      ]
     },
     "execution_count": 6,
     "metadata": {},
     "output_type": "execute_result"
    }
   ],
   "source": [
    "VSol2=RH@V0\n",
    "print('El vector resultado (reflejo de V0) es:')\n",
    "VSol2.reshape(2,1)"
   ]
  },
  {
   "cell_type": "code",
   "execution_count": 7,
   "metadata": {},
   "outputs": [
    {
     "data": {
      "image/png": "[encoded data removed]",
      "text/plain": [
       "<Figure size 432x288 with 1 Axes>"
      ]
     },
     "metadata": {
      "needs_background": "light"
     },
     "output_type": "display_data"
    }
   ],
   "source": [
    "plt.quiver([1],[1], angles='xy', scale_units='xy', scale=1, color='green', label='V0')\n",
    "plt.quiver(Vu[0],Vu[1], angles='xy', scale_units='xy', scale=1, color ='black', label='Vu')\n",
    "plt.quiver(VSol2[0],VSol2[1], angles='xy', scale_units='xy', scale=1, color ='blue', label='VSol2')\n",
    "plt.axhline(0, color='gray')\n",
    "plt.axvline(0, color='gray')\n",
    "plt.xlim([-2, 1.5])\n",
    "plt.ylim([-.5, 1.5])\n",
    "plt.grid()\n",
    "plt.xlabel('X',color='red')\n",
    "plt.ylabel('Y',color='red')\n",
    "plt.legend(loc = 4)\n",
    "plt.show()"
   ]
  }
 ],
 "metadata": {
  "kernelspec": {
   "display_name": "Python 3",
   "language": "python",
   "name": "python3"
  },
  "language_info": {
   "codemirror_mode": {
    "name": "ipython",
    "version": 3
   },
   "file_extension": ".py",
   "mimetype": "text/x-python",
   "name": "python",
   "nbconvert_exporter": "python",
   "pygments_lexer": "ipython3",
   "version": "3.6.8"
  }
 },
 "nbformat": 4,
 "nbformat_minor": 2
}
